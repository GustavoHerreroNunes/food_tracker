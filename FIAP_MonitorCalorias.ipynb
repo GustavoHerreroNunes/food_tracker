{
 "cells": [
  {
   "cell_type": "code",
   "execution_count": 32,
   "metadata": {},
   "outputs": [],
   "source": [
    "import pandas as pd\n",
    "from collections import defaultdict"
   ]
  },
  {
   "cell_type": "code",
   "execution_count": 33,
   "metadata": {},
   "outputs": [],
   "source": [
    "#Definição da classe Arvore Binaria com os alimentos\n",
    "\n",
    "class NoArvore:\n",
    "    def __init__(self, alimento, calorias_por_grama):\n",
    "        self.alimento = alimento\n",
    "        self.calorias_por_grama = calorias_por_grama\n",
    "        self.esquerda = None\n",
    "        self.direita = None\n",
    "\n",
    "class ArvoreBinaria:\n",
    "    def __init__(self):\n",
    "        self.raiz = None\n",
    "\n",
    "    def adicionar(self, alimento, calorias_por_grama):\n",
    "        if self.raiz is None:\n",
    "            self.raiz = NoArvore(alimento, calorias_por_grama)\n",
    "        else:\n",
    "            self._adicionar_recursivamente(alimento, calorias_por_grama, self.raiz)\n",
    "\n",
    "    def _adicionar_recursivamente(self, alimento, calorias_por_grama, no_atual):\n",
    "        if alimento < no_atual.alimento:\n",
    "            if no_atual.esquerda is None:\n",
    "                no_atual.esquerda = NoArvore(alimento, calorias_por_grama)\n",
    "            else:\n",
    "                self._adicionar_recursivamente(alimento, calorias_por_grama, no_atual.esquerda)\n",
    "        elif alimento > no_atual.alimento:\n",
    "            if no_atual.direita is None:\n",
    "                no_atual.direita = NoArvore(alimento, calorias_por_grama)\n",
    "            else:\n",
    "                self._adicionar_recursivamente(alimento, calorias_por_grama, no_atual.direita)\n",
    "        else:\n",
    "            print(f'O alimento \"{alimento}\" já existe na árvore.')\n",
    "\n",
    "    def buscar(self, alimento):\n",
    "        return self._buscar_recursivamente(alimento, self.raiz)\n",
    "\n",
    "    def _buscar_recursivamente(self, alimento, no_atual):\n",
    "        if no_atual is None or no_atual.alimento == alimento:\n",
    "            return no_atual\n",
    "        if alimento < no_atual.alimento:\n",
    "            return self._buscar_recursivamente(alimento, no_atual.esquerda)\n",
    "        return self._buscar_recursivamente(alimento, no_atual.direita)\n",
    "\n",
    "    def imprimir_arvore(self):\n",
    "        self._imprimir_recursivamente(self.raiz, 0)\n",
    "\n",
    "    def _imprimir_recursivamente(self, no_atual, nivel):\n",
    "        if no_atual is not None:\n",
    "            self._imprimir_recursivamente(no_atual.esquerda, nivel + 1)\n",
    "            print(\"   \" * nivel, end=\"\")\n",
    "            print(f\"{no_atual.alimento} ({no_atual.calorias_por_grama})\")\n",
    "            self._imprimir_recursivamente(no_atual.direita, nivel + 1)"
   ]
  },
  {
   "cell_type": "code",
   "execution_count": 34,
   "metadata": {},
   "outputs": [],
   "source": [
    "#Função de busca do alimento na árvore\n",
    "\n",
    "def buscar_alimento(no_atual, alimento):\n",
    "    if no_atual is None or no_atual.alimento == alimento:\n",
    "        return no_atual\n",
    "    if alimento < no_atual.alimento:\n",
    "        return buscar_alimento(no_atual.esquerda, alimento)\n",
    "    return buscar_alimento(no_atual.direita, alimento)"
   ]
  },
  {
   "cell_type": "code",
   "execution_count": 35,
   "metadata": {},
   "outputs": [
    {
     "name": "stdout",
     "output_type": "stream",
     "text": [
      "Alimento não encontrado na árvore.\n"
     ]
    }
   ],
   "source": [
    "# Criando uma instância da árvore\n",
    "arvore_alimentos = ArvoreBinaria()\n",
    "\n",
    "# Buscando um alimento na árvore\n",
    "resultado_busca = arvore_alimentos.buscar('Banana')\n",
    "if resultado_busca:\n",
    "    print(f'{resultado_busca.alimento} - {resultado_busca.calorias_por_grama} calorias por grama')\n",
    "else:\n",
    "    print('Alimento não encontrado na árvore.')"
   ]
  },
  {
   "cell_type": "code",
   "execution_count": 36,
   "metadata": {},
   "outputs": [],
   "source": [
    "def salvar_arvore_txt(no_atual, arquivo):\n",
    "    if no_atual is not None:\n",
    "        if no_atual.direita is not None:\n",
    "            salvar_arvore_txt(no_atual.direita, arquivo)\n",
    "        arquivo.write(f\"{no_atual.alimento},{no_atual.calorias_por_grama}\\n\")\n",
    "        if no_atual.esquerda is not None:\n",
    "            salvar_arvore_txt(no_atual.esquerda, arquivo)\n",
    "\n",
    "def salvar_arvore(nome_arquivo, arvore):\n",
    "    with open(nome_arquivo, 'w') as arquivo_txt:\n",
    "        if arvore.raiz is not None:\n",
    "            salvar_arvore_txt(arvore.raiz, arquivo_txt)"
   ]
  },
  {
   "cell_type": "code",
   "execution_count": 37,
   "metadata": {},
   "outputs": [],
   "source": [
    "\n",
    "def ler_arvore_txt(nome_arquivo):\n",
    "    arvore = ArvoreBinaria()\n",
    "    with open(nome_arquivo, 'r') as arquivo:\n",
    "        linhas = arquivo.readlines()\n",
    "        for linha in linhas:\n",
    "            dados = linha.strip().split(',')\n",
    "            alimento = dados[0]\n",
    "            calorias_por_grama = float(dados[1])\n",
    "            arvore.raiz = adicionar_no(arvore.raiz, alimento, calorias_por_grama)\n",
    "    return arvore\n",
    "\n",
    "def adicionar_no(raiz, alimento, calorias_por_grama):\n",
    "    if raiz is None:\n",
    "        return NoArvore(alimento, calorias_por_grama)\n",
    "    elif alimento < raiz.alimento:\n",
    "        raiz.esquerda = adicionar_no(raiz.esquerda, alimento, calorias_por_grama)\n",
    "    elif alimento > raiz.alimento:\n",
    "        raiz.direita = adicionar_no(raiz.direita, alimento, calorias_por_grama)\n",
    "    return raiz\n",
    "\n"
   ]
  },
  {
   "cell_type": "code",
   "execution_count": 38,
   "metadata": {},
   "outputs": [],
   "source": [
    "def adicionar_alimento_consumido(arvore, data_consumo, alimento, quantidade_consumida):\n",
    "    resultado_busca = buscar_alimento(arvore.raiz, alimento)\n",
    "    \n",
    "    if resultado_busca:\n",
    "        # Aqui você pode fazer o cálculo das calorias com base na quantidade consumida\n",
    "        calorias_consumidas = resultado_busca.calorias_por_grama * quantidade_consumida\n",
    "        \n",
    "        if data_consumo not in alimentos_consumidos:\n",
    "            alimentos_consumidos[data_consumo] = []\n",
    "\n",
    "        alimentos_consumidos[data_consumo].append({\n",
    "            'alimento': alimento,\n",
    "            'quantidade_consumida': quantidade_consumida,\n",
    "            'calorias_consumidas': calorias_consumidas\n",
    "        })\n",
    "        print(f\"Alimento '{alimento}' adicionado na data {data_consumo}.\")\n",
    "        return calorias_consumidas\n",
    "    else:\n",
    "        print(f\"Alimento '{alimento}' não encontrado na lista de alimentos.\")\n",
    "        return 0\n",
    "\n",
    "def calcular_calorias_por_dia(alimentos_consumidos):\n",
    "    calorias_por_dia = defaultdict(int)\n",
    "\n",
    "    for data, consumos in alimentos_consumidos.items():\n",
    "        for consumo in consumos:\n",
    "            calorias_por_dia[data] += consumo['calorias_consumidas']\n",
    "\n",
    "    return calorias_por_dia\n",
    "\n",
    "\n"
   ]
  },
  {
   "cell_type": "code",
   "execution_count": 39,
   "metadata": {},
   "outputs": [],
   "source": [
    "alimentos_consumidos = defaultdict(list)"
   ]
  },
  {
   "cell_type": "code",
   "execution_count": 40,
   "metadata": {},
   "outputs": [],
   "source": [
    "arquivoArvore = \"TesteArvore.txt\""
   ]
  },
  {
   "cell_type": "code",
   "execution_count": 41,
   "metadata": {},
   "outputs": [],
   "source": [
    "arvore_lida = ler_arvore_txt(arquivoArvore)"
   ]
  },
  {
   "cell_type": "code",
   "execution_count": 42,
   "metadata": {},
   "outputs": [
    {
     "name": "stdout",
     "output_type": "stream",
     "text": [
      "            Abacate (1.6)\n",
      "         Abacaxi (0.5)\n",
      "                     Abobrinha (0.2)\n",
      "                        Aipo (0.2)\n",
      "                  Alface (0.1)\n",
      "                        Alho (1.5)\n",
      "                           Amendoim (5.8)\n",
      "                     Amêndoas (5.9)\n",
      "               Arroz branco cozido (1.1)\n",
      "                     Arroz integral cozido (1.1)\n",
      "                        Arroz selvagem cozido (1.0)\n",
      "                  Atum enlatado (1.3)\n",
      "                     Aveia cozida (0.6)\n",
      "                        Avelãs (6.1)\n",
      "            Açúcar branco (4.0)\n",
      "               Bacalhau (1.8)\n",
      "      Banana (0.9)\n",
      "         Batata cozida (0.7)\n",
      "                     Berinjela (0.2)\n",
      "                  Beterraba cozida (0.4)\n",
      "                           Biscoito cream cracker (4.5)\n",
      "                        Biscoito de polvilho (4.7)\n",
      "                     Biscoito de água e sal (4.4)\n",
      "                        Biscoito maisena (4.8)\n",
      "                           Biscoito recheado (4.6)\n",
      "               Brócolis cozido (0.3)\n",
      "                  Carne bovina magra cozida (2.4)\n",
      "                        Castanha de caju (5.7)\n",
      "                     Cebola (0.4)\n",
      "            Cenoura crua (0.4)\n",
      "                        Chocolate amargo (5.6)\n",
      "                     Chocolate ao leite (5.7)\n",
      "                        Chocolate branco (5.6)\n",
      "                  Cogumelo (0.3)\n",
      "               Couve-flor crua (0.3)\n",
      "                     Cuscuz marroquino cozido (1.2)\n",
      "                  Espinafre cozido (0.2)\n",
      "                           Feijão branco cozido (1.1)\n",
      "                        Feijão cozido (1.2)\n",
      "                           Feijão preto cozido (1.2)\n",
      "                              Feijão vermelho cozido (1.1)\n",
      "                                 Flocos de milho (cereal) (3.6)\n",
      "                     Frango cozido sem pele (1.2)\n",
      "                              Granola (4.1)\n",
      "                           Grão-de-bico cozido (1.6)\n",
      "                        Iogurte natural (0.6)\n",
      "                           Kiwi (0.6)\n",
      "   Laranja (0.4)\n",
      "                  Lasanha (1.2)\n",
      "               Leite desnatado (0.4)\n",
      "            Leite integral (0.6)\n",
      "               Lentilhas cozidas (1.1)\n",
      "         Macarrão cozido (1.4)\n",
      "               Macarrão instantâneo (cozido) (1.0)\n",
      "            Manga (0.6)\n",
      "      Manteiga (7.0)\n",
      "Maçã (0.5)\n",
      "      Mel (3.4)\n",
      "               Melancia (0.3)\n",
      "                  Melão (0.3)\n",
      "                     Milho cozido (1.5)\n",
      "            Morango (0.3)\n",
      "                        Nhoque (1.4)\n",
      "                     Nozes (6.8)\n",
      "                  Ovo cozido (1.6)\n",
      "               Peixe (salmão) (2.1)\n",
      "         Pepino (0.1)\n",
      "                     Pera (0.5)\n",
      "                        Pimentão (0.2)\n",
      "                                          Pipoca estourada (3.4)\n",
      "                                       Pistache (5.7)\n",
      "                                          Pão de alho (4.6)\n",
      "                                                Pão de alho com queijo (4.5)\n",
      "                                             Pão de aveia (2.5)\n",
      "                                    Pão de batata (2.9)\n",
      "                                 Pão de centeio (2.6)\n",
      "                                    Pão de centeio integral (2.6)\n",
      "                              Pão de forma (2.7)\n",
      "                                       Pão de forma integral (2.5)\n",
      "                                    Pão de hambúrguer (3.4)\n",
      "                                       Pão de hot dog (3.5)\n",
      "                                 Pão de milho (2.8)\n",
      "                                    Pão de queijo (2.8)\n",
      "                                       Pão francês (2.7)\n",
      "                           Pão integral (2.5)\n",
      "                                 Pão naan (2.5)\n",
      "                              Pão pita (2.2)\n",
      "                                 Pão sírio (2.4)\n",
      "                  Pêssego (0.4)\n",
      "               Queijo cheddar (4.0)\n",
      "                     Quinoa cozida (1.5)\n",
      "                  Rabanete (0.2)\n",
      "                              Salgadinho de batata (snack) (5.3)\n",
      "                           Salgadinho de milho (snack) (5.6)\n",
      "                        Salmão defumado (2.2)\n",
      "                     Salsa (0.3)\n",
      "                        Sardinha enlatada (2.4)\n",
      "                              Sorvete de baunilha (2.0)\n",
      "                                 Sorvete de chocolate (2.5)\n",
      "                                    Sorvete de morango (2.3)\n",
      "                           Tofu (0.8)\n",
      "            Tomate (0.2)\n",
      "                  Torrada (3.8)\n",
      "                     Tortilha de milho (2.6)\n",
      "                        Tortilha de trigo (3.4)\n",
      "               Uva (0.7)\n",
      "   Óleo de coco (9.0)\n",
      "      Óleo de oliva (9.0)\n"
     ]
    }
   ],
   "source": [
    "arvore_lida.imprimir_arvore()"
   ]
  },
  {
   "cell_type": "code",
   "execution_count": 43,
   "metadata": {},
   "outputs": [
    {
     "name": "stdout",
     "output_type": "stream",
     "text": [
      "Alimento 'Maçã' adicionado na data 2023-11-20.\n",
      "Calorias por dia:\n",
      "2023-11-20: 25.0 cal\n"
     ]
    }
   ],
   "source": [
    "# Exemplo de uso\n",
    "adicionar_alimento_consumido(arvore_lida, '2023-11-20', 'Maçã', 50)  # Exemplo de adição de alimento consumido\n",
    "calorias_por_dia = calcular_calorias_por_dia(alimentos_consumidos)\n",
    "print(\"Calorias por dia:\")\n",
    "for data, calorias in calorias_por_dia.items():\n",
    "    print(f\"{data}: {calorias} cal\")"
   ]
  },
  {
   "cell_type": "code",
   "execution_count": 44,
   "metadata": {},
   "outputs": [
    {
     "name": "stdout",
     "output_type": "stream",
     "text": [
      "Alimento 'Maçã' adicionado na data 2023-11-20.\n",
      "Calorias por dia:\n",
      "2023-11-20: 50.0 cal\n"
     ]
    }
   ],
   "source": [
    "adicionar_alimento_consumido(arvore_lida, '2023-11-20', 'Maçã', 50)  # Exemplo de adição de alimento consumido\n",
    "calorias_por_dia = calcular_calorias_por_dia(alimentos_consumidos)\n",
    "print(\"Calorias por dia:\")\n",
    "for data, calorias in calorias_por_dia.items():\n",
    "    print(f\"{data}: {calorias} cal\")"
   ]
  },
  {
   "cell_type": "code",
   "execution_count": 45,
   "metadata": {},
   "outputs": [
    {
     "name": "stdout",
     "output_type": "stream",
     "text": [
      "Alimento 'Maçã' adicionado na data 2023-11-21.\n",
      "Calorias por dia:\n",
      "2023-11-20: 50.0 cal\n",
      "2023-11-21: 50.0 cal\n"
     ]
    }
   ],
   "source": [
    "adicionar_alimento_consumido(arvore_lida, '2023-11-21', 'Maçã', 100)  # Exemplo de adição de alimento consumido\n",
    "calorias_por_dia = calcular_calorias_por_dia(alimentos_consumidos)\n",
    "print(\"Calorias por dia:\")\n",
    "for data, calorias in calorias_por_dia.items():\n",
    "    print(f\"{data}: {calorias} cal\")"
   ]
  },
  {
   "cell_type": "code",
   "execution_count": null,
   "metadata": {},
   "outputs": [],
   "source": []
  }
 ],
 "metadata": {
  "kernelspec": {
   "display_name": "Python 3",
   "language": "python",
   "name": "python3"
  },
  "language_info": {
   "codemirror_mode": {
    "name": "ipython",
    "version": 3
   },
   "file_extension": ".py",
   "mimetype": "text/x-python",
   "name": "python",
   "nbconvert_exporter": "python",
   "pygments_lexer": "ipython3",
   "version": "3.10.2"
  }
 },
 "nbformat": 4,
 "nbformat_minor": 2
}
